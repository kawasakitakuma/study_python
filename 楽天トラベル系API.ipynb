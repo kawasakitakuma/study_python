{
 "cells": [
  {
   "cell_type": "code",
   "execution_count": 53,
   "metadata": {},
   "outputs": [
    {
     "data": {
      "text/plain": [
       "'東急ステイ沖縄那覇/沖縄県那覇市壷川3-2-1'"
      ]
     },
     "execution_count": 53,
     "metadata": {},
     "output_type": "execute_result"
    }
   ],
   "source": [
    "import requests\n",
    "URL = 'https://app.rakuten.co.jp/services/api/Travel/KeywordHotelSearch/20170426'\n",
    "APP_ID = '1006428341077584336'\n",
    "\n",
    "params = {\n",
    "    'applicationId': APP_ID,\n",
    "    'keyword': '沖縄'\n",
    "}\n",
    "\n",
    "res = requests.get(URL, params)\n",
    "\n",
    "res.status_code\n",
    "\n",
    "hotels = res.json()['hotels']\n",
    "\n",
    "hotel = hotels[0]['hotel'][0]['hotelBasicInfo']\n",
    "\n",
    "address = hotel['address1'] + hotel['address2']\n",
    "\n",
    "name = hotel['hotelName']\n",
    "\n",
    "result = name + \"/\" + address\n",
    "\n",
    "result"
   ]
  }
 ],
 "metadata": {
  "kernelspec": {
   "display_name": "Python 3",
   "language": "python",
   "name": "python3"
  },
  "language_info": {
   "codemirror_mode": {
    "name": "ipython",
    "version": 3
   },
   "file_extension": ".py",
   "mimetype": "text/x-python",
   "name": "python",
   "nbconvert_exporter": "python",
   "pygments_lexer": "ipython3",
   "version": "3.9.6"
  },
  "orig_nbformat": 4
 },
 "nbformat": 4,
 "nbformat_minor": 2
}
