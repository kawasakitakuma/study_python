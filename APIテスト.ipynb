{
 "cells": [
  {
   "cell_type": "code",
   "execution_count": null,
   "metadata": {},
   "outputs": [],
   "source": [
    "import requests\n",
    "url = 'https://jsonplaceholder.typicode.com/posts'\n",
    "res = requests.get(url)\n",
    "res.status_code\n",
    "datum = res.json()[3]\n",
    "datum\n",
    "datum['body']"
   ]
  },
  {
   "cell_type": "code",
   "execution_count": null,
   "metadata": {},
   "outputs": [],
   "source": [
    "url = 'https://jsonplaceholder.typicode.com/posts'\n",
    "\n",
    "params = {\n",
    "    'id':3\n",
    "}\n",
    "res = requests.get(url, params)\n",
    "res.status_code #res.status_codeが200と表示される場合、リクエストが成功し、クエストされたURLからのレスポンスが正常に取得されたことを示している\n",
    "res.json()\n",
    "\n"
   ]
  }
 ],
 "metadata": {
  "language_info": {
   "name": "python"
  },
  "orig_nbformat": 4
 },
 "nbformat": 4,
 "nbformat_minor": 2
}
